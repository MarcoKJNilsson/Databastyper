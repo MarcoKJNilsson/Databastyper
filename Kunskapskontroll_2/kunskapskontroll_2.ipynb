{
  "cells": [
    {
      "cell_type": "markdown",
      "metadata": {},
      "source": [
        "DATA24HEL_DBT25/Databastyper\n",
        "# Kunskapskontroll 2\n",
        "\n",
        "Gör kurserna i den här samlingen: [https://learn.microsoft.com/en-us/collections/3140s6twkorq6z?&sharingId=A70F2DF98827F6CC](https://learn.microsoft.com/en-us/collections/3140s6twkorq6z?&sharingId=A70F2DF98827F6CC)\n",
        "\n",
        "### OBS! Du behöver __inte__ göra *exercises*!\n",
        "\n",
        "Svara på frågorna nedan. Eftersom kurserna är på engelska har jag skrivit även frågorna på engelska. Det går bra att svara på svenska eller engelska.\n"
      ]
    },
    {
      "cell_type": "markdown",
      "metadata": {},
      "source": [
        "---\n",
        "## Microsoft Azure Data Fundamentals: Explore core data concepts\n",
        "### Explore core data concepts\n",
        "#### Identify data formats\n",
        "\n",
        "❓ What data format is often represented as JSON?"
      ]
    },
    {
      "cell_type": "markdown",
      "metadata": {},
      "source": [
        "✔️ Answer: You often find semi-structured data like information on a customer inside a JSON-file (JavaScript Object Notiation). "
      ]
    },
    {
      "cell_type": "markdown",
      "metadata": {},
      "source": [
        "❓ What data format is represented in a tabular format?"
      ]
    },
    {
      "cell_type": "markdown",
      "metadata": {},
      "source": [
        "✔️ Answer: You'll most likely find structured data using tabular format."
      ]
    },
    {
      "cell_type": "markdown",
      "metadata": {},
      "source": [
        "❓ What is the data format of images, pdf-documents and binary files called?"
      ]
    },
    {
      "cell_type": "markdown",
      "metadata": {},
      "source": [
        "✔️ Answer: Unstructured data. "
      ]
    },
    {
      "cell_type": "markdown",
      "metadata": {},
      "source": [
        "#### Explore file storage\n"
      ]
    },
    {
      "cell_type": "markdown",
      "metadata": {},
      "source": [
        "❓ Give an example of an optimized file format for structured and semi-structured data."
      ]
    },
    {
      "cell_type": "markdown",
      "metadata": {},
      "source": [
        "✔️ Answer: Parquet is a good example of a optimized file format for both structured and semi-structured data. Using Parquet you're able to store alot of analytics from a database and handling files like JSON quite efficiently. "
      ]
    },
    {
      "cell_type": "markdown",
      "metadata": {},
      "source": [
        "#### Explore transactional data processing\n",
        "❓ What are OLTP systems designed for?\n"
      ]
    },
    {
      "cell_type": "markdown",
      "metadata": {},
      "source": [
        "✔️ Answer: Online Tansactional Processin (OLTP) are often used for high-volume, sometimes handling millions of transactions every single day. Data is being processed very quickly for easy accessiblity \n",
        "This system rely on databases in which storage is optimized for both read and write operations.\n",
        "\n",
        "To accomplish this OLTP enforce transactions that support ACID-semantics. \n",
        "\n",
        "- Atomicity (treated as a single unit, succeeds/fails completely).\n",
        "- Consistency (Take data from one state to another).\n",
        "- Isolation (can not interfere with one another).\n",
        "- Durability (will remain committed even when turned off)."
      ]
    },
    {
      "cell_type": "markdown",
      "metadata": {},
      "source": [
        "#### Explore analytical data processing\n",
        "❓ What are OLAP systems designed for?\n"
      ]
    },
    {
      "cell_type": "markdown",
      "metadata": {},
      "source": [
        "✔️ Answer: An aggregated type of data storage that is optimized for analytic workloads. You're able to access information regarding total sales by region, by city, or for an individual place."
      ]
    },
    {
      "cell_type": "markdown",
      "metadata": {},
      "source": [
        "### Explore data roles and services\n",
        "#### Explore job roles in the world of data\n",
        "\n",
        "❓Describe some of the responsibilities of a:\n",
        "\n",
        "* Database Administrator\n",
        "* Data Engineer\n",
        "* Data Analyst"
      ]
    },
    {
      "cell_type": "markdown",
      "metadata": {},
      "source": [
        "✔️ Answer: \n",
        "- Database administrator\n",
        "Data administrator is responsible for managing and maintaining database to ensure it's availability, security and performance. You often work with installation of databases and configuration of said database. Making sure everything goes smoothly when making queries. Implementing security like encryption and permissions. Making sure there is a recovery option and monitoring said database.\n",
        "\n",
        "- Data Engineer\n",
        "A data engineer designs and builds pipelines for a efficient data collection. A engineer ensures quality, security and work according to regulations like the famous EU-ordinance GDPR. Managing Datawarehouses and progressing big data.\n",
        "\n",
        "- Data Analyst\n",
        "A data analyst extracts data to support business decisions. Exploreing data with SQL, Pandas (Python) or Excel. Working with data visualization, intelligence and reporting findings to stakeholders.\n"
      ]
    },
    {
      "cell_type": "markdown",
      "metadata": {},
      "source": [
        "---\n",
        "## Microsoft Azure Data Fundamentals: Explore relational data in Azure\n",
        "### Explore fundamental relational data concepts\n",
        "\n",
        "❓ How is relational data commonly organized?"
      ]
    },
    {
      "cell_type": "markdown",
      "metadata": {},
      "source": [
        "✔️ Answer: A relational database is often organized like this:\n",
        "\n",
        "Example 1: \n",
        "- Tables (Reprsenting Customers, orders and much more).\n",
        "- Rows (A single customer).\n",
        "- Columns (ID, firstname, lastname, social security).\n",
        "- Primary and Foreign key (PK is a unique identifier and FK establish a relationship by referencing a PK in a table)."
      ]
    },
    {
      "cell_type": "markdown",
      "metadata": {},
      "source": [
        "❓ What are the main reasons for normalizing relational data?"
      ]
    },
    {
      "cell_type": "markdown",
      "metadata": {},
      "source": [
        "✔️ Answer:\n",
        "- Eliminate duplicated values\n",
        "- Ensures consistency and integrity\n",
        "- More logical and easier to manage database\n",
        "- Efficient and faster queries\n",
        "- Maintains a relationships between tables using Primary key and Foreign key.\n"
      ]
    },
    {
      "cell_type": "markdown",
      "metadata": {},
      "source": [
        "### Explore relational database services in Azure\n",
        "\n",
        "❓ Which of the Azure SQL services requires you to manage configuration, backups, and other maintenance tasks yourself?"
      ]
    },
    {
      "cell_type": "markdown",
      "metadata": {},
      "source": [
        "✔️ Answer: Azure SQL VM a virtual machine with SQL server allowing maximum configuration with full responsibility."
      ]
    },
    {
      "cell_type": "markdown",
      "metadata": {},
      "source": [
        "---\n",
        "## Microsoft Azure Data Fundamentals: Explore non-relational data in Azure\n",
        "### Explore Azure blob storage\n",
        "\n",
        "❓ What are the three types of blob that Azure Blob Storage supports?"
      ]
    },
    {
      "cell_type": "markdown",
      "metadata": {},
      "source": [
        "✔️ Answer:\n",
        "1. Block Blobs\n",
        "2. Append Blobs\n",
        "3. Page Blobs"
      ]
    },
    {
      "cell_type": "markdown",
      "metadata": {},
      "source": [
        "### Explore fundamentals of Azure Cosmos DB\n",
        "#### Describe Azure Cosmos DB\n",
        "\n",
        "❓ Which data storage scenarios are Azure Cosmos DB suitable for? "
      ]
    },
    {
      "cell_type": "markdown",
      "metadata": {},
      "source": [
        "✔️ Answer: \n",
        "Azure Cosmos DB is suitable for a great number of things. Some examples are social applications and retail and marketing."
      ]
    },
    {
      "cell_type": "markdown",
      "metadata": {},
      "source": [
        "#### Identify Azure Cosmos DB API\n",
        "\n",
        "❓ With Azure Cosmos DB for NoSQL you can use SQL syntax to make queries to a NoSQL database, but how are the results formatted?"
      ]
    },
    {
      "cell_type": "markdown",
      "metadata": {},
      "source": [
        "✔️ Answer: You'll find that results are written to look like JSON-file.  "
      ]
    },
    {
      "cell_type": "markdown",
      "metadata": {},
      "source": [
        "---\n",
        "## Explore fundamentals of large-scale analytics\n",
        "### Explore analytical data stores\n"
      ]
    },
    {
      "cell_type": "markdown",
      "metadata": {},
      "source": [
        "\n",
        "❓ What kind of analytical data store should you choose when you have structured data?"
      ]
    },
    {
      "cell_type": "markdown",
      "metadata": {},
      "source": [
        "✔️ Answer:"
      ]
    },
    {
      "cell_type": "markdown",
      "metadata": {},
      "source": [
        "❓ What kind of analytical data store should you choose when you have a mix of structured, semi-structured and unstructured data?"
      ]
    },
    {
      "cell_type": "markdown",
      "metadata": {},
      "source": [
        "✔️ Answer:"
      ]
    },
    {
      "cell_type": "markdown",
      "metadata": {},
      "source": [
        "❓ What is a hybrid data store that combines features of data lakes and data warehouses called?"
      ]
    },
    {
      "cell_type": "markdown",
      "metadata": {},
      "source": [
        "✔️ Answer:"
      ]
    },
    {
      "cell_type": "markdown",
      "metadata": {},
      "source": [
        "---\n",
        "## Store Data in Azure\n",
        "### Choose a data storage apporach in Azure\n",
        "#### Classify your data"
      ]
    },
    {
      "cell_type": "markdown",
      "metadata": {},
      "source": [
        "❓ How is business data classified?"
      ]
    },
    {
      "cell_type": "markdown",
      "metadata": {},
      "source": [
        "✔️ Answer: If you work as a business analyst you might want to implement intelligence to perfom evaluations and review for example sales data. To perform these operations however, data from multiple months needs to be aggregated and then queried. This data must be structured.\n"
      ]
    },
    {
      "cell_type": "markdown",
      "metadata": {},
      "source": [
        "\n",
        "❓ How is data for a product catalog classified?"
      ]
    },
    {
      "cell_type": "markdown",
      "metadata": {},
      "source": [
        "✔️ Answer: Product catalogs for a retail business is semi-structued. Each product have a description, quantity, price options, color and a photo. \n"
      ]
    },
    {
      "cell_type": "markdown",
      "metadata": {},
      "source": [
        "❓ How is data representing photos and videos classified?"
      ]
    },
    {
      "cell_type": "markdown",
      "metadata": {},
      "source": [
        "✔️ Answer: Unstructured data. \n"
      ]
    },
    {
      "cell_type": "markdown",
      "metadata": {},
      "source": [
        "#### Group multiple operations in a transaction\n",
        "\n",
        "❓ What is ACID?"
      ]
    },
    {
      "cell_type": "markdown",
      "metadata": {},
      "source": [
        "✔️ Answer: ACID is an acronym for the following:\n",
        "\n",
        "- Atomicity\n",
        "- Consistency\n",
        "- Isolation\n",
        "- Durability\n"
      ]
    },
    {
      "cell_type": "markdown",
      "metadata": {},
      "source": [
        "❓ Which of the three datasets (product catalog, photos and videos, business data) is transactional?"
      ]
    },
    {
      "cell_type": "markdown",
      "metadata": {},
      "source": [
        "✔️ Answer: Product catalog\n"
      ]
    },
    {
      "cell_type": "markdown",
      "metadata": {},
      "source": [
        "#### Choose a storage solution in Azure"
      ]
    },
    {
      "cell_type": "markdown",
      "metadata": {},
      "source": [
        "❓ What is the recommended service for a semi-structured dataset that needs a high number of both read and write operations?"
      ]
    },
    {
      "cell_type": "markdown",
      "metadata": {},
      "source": [
        "✔️ Answer:\n"
      ]
    },
    {
      "cell_type": "markdown",
      "metadata": {},
      "source": [
        "❓ What is the recommended service for a structured dataset that will be used for analytical purposes only?"
      ]
    },
    {
      "cell_type": "markdown",
      "metadata": {},
      "source": [
        "✔️ Answer:\n"
      ]
    },
    {
      "cell_type": "markdown",
      "metadata": {},
      "source": [
        "### Create an Azure Storage Account\n",
        "#### Decide how many storage accounts you need"
      ]
    },
    {
      "cell_type": "markdown",
      "metadata": {},
      "source": [
        "❓ What is the difference between Hot and Cold access tiers?"
      ]
    },
    {
      "cell_type": "markdown",
      "metadata": {},
      "source": [
        "✔️ Answer: \n",
        "Hot and cold access tiers in Azure Blob Storage are designed to optimize data storage costs based on the frequently the data is accessed. \n",
        "\n",
        "Hot Access is designed for data that you access frequently while cold access means the opposite. \n",
        "\n",
        "\n",
        "\n"
      ]
    },
    {
      "cell_type": "markdown",
      "metadata": {},
      "source": [
        "#### Choose your account settings"
      ]
    },
    {
      "cell_type": "markdown",
      "metadata": {},
      "source": [
        "❓ When creating an Azure Storage Account, which deployment model should you choose?"
      ]
    },
    {
      "cell_type": "markdown",
      "metadata": {},
      "source": [
        "✔️ Answer:\n",
        "\n",
        "A deployment model is the system Azure uses to help you organize your resources. There are two models. Resource manager and classic. The current model is Azure Resource Manager API and using ARM means access to most of Azure resources. Classic is currently retiring and is not supported by most of Azure resources. \n"
      ]
    },
    {
      "cell_type": "markdown",
      "metadata": {},
      "source": [
        "#### Choose an account creation tool"
      ]
    },
    {
      "cell_type": "markdown",
      "metadata": {},
      "source": [
        "❓ The most commonly used account creation tool is the Azure Portal. Why?"
      ]
    },
    {
      "cell_type": "markdown",
      "metadata": {},
      "source": [
        "✔️ Answer: Azure portal provide you with a GUI with explaination for each setting, quite useful when you need to learn something. \n"
      ]
    },
    {
      "cell_type": "markdown",
      "metadata": {},
      "source": [
        "### Secure your Azure Storage account\n",
        "#### Explore Azure Storage security features"
      ]
    },
    {
      "cell_type": "markdown",
      "metadata": {},
      "source": [
        "❓ How do you disable encryption at rest?"
      ]
    },
    {
      "cell_type": "markdown",
      "metadata": {},
      "source": [
        "✔️ Answer: \n",
        "\n",
        "It is not possible to disable encryption. All data written to Azure Storage is automatically encrypted by Storage Service Encryption (SSE) with a 256-bit Advanced Encryption Standard (AES)\n"
      ]
    },
    {
      "cell_type": "markdown",
      "metadata": {},
      "source": [
        "❓ What happens if you require *secure transfer* for your storage account?"
      ]
    },
    {
      "cell_type": "markdown",
      "metadata": {},
      "source": [
        "✔️ Answer:\n"
      ]
    },
    {
      "cell_type": "markdown",
      "metadata": {},
      "source": [
        "❓ What is CORS?"
      ]
    },
    {
      "cell_type": "markdown",
      "metadata": {},
      "source": [
        "✔️ Answer:\n"
      ]
    },
    {
      "cell_type": "markdown",
      "metadata": {},
      "source": [
        "❓ Which Azure service can you use to audit accesses to your data?"
      ]
    },
    {
      "cell_type": "markdown",
      "metadata": {},
      "source": [
        "✔️ Answer:\n"
      ]
    },
    {
      "cell_type": "markdown",
      "metadata": {},
      "source": [
        "#### Understand storage account keys"
      ]
    },
    {
      "cell_type": "markdown",
      "metadata": {},
      "source": [
        "❓ Which authentication option is the best for Blob and Queue storage?"
      ]
    },
    {
      "cell_type": "markdown",
      "metadata": {},
      "source": [
        "✔️ Answer:\n"
      ]
    },
    {
      "cell_type": "markdown",
      "metadata": {},
      "source": [
        "#### Understand shared access signatures (SAS)"
      ]
    },
    {
      "cell_type": "markdown",
      "metadata": {},
      "source": [
        "❓ What are the two levels of SAS?"
      ]
    },
    {
      "cell_type": "markdown",
      "metadata": {},
      "source": [
        "✔️ Answer:\n"
      ]
    },
    {
      "cell_type": "markdown",
      "metadata": {},
      "source": [
        "#### Control network access to your storage account"
      ]
    },
    {
      "cell_type": "markdown",
      "metadata": {},
      "source": [
        "❓ What must you do before you change the default network access action from *grant* to *deny*?"
      ]
    },
    {
      "cell_type": "markdown",
      "metadata": {},
      "source": [
        "✔️ Answer:\n"
      ]
    },
    {
      "cell_type": "markdown",
      "metadata": {},
      "source": [
        "### Store application data with Azure Blob Storage\n",
        "#### What are blobs?"
      ]
    },
    {
      "cell_type": "markdown",
      "metadata": {},
      "source": [
        "❓ What kind of data can't be stored as a blob?"
      ]
    },
    {
      "cell_type": "markdown",
      "metadata": {},
      "source": [
        "✔️ Answer:\n"
      ]
    },
    {
      "cell_type": "markdown",
      "metadata": {},
      "source": [
        "❓ What kind of data shouldn't be stored as a blob?"
      ]
    },
    {
      "cell_type": "markdown",
      "metadata": {},
      "source": [
        "✔️ Answer:\n"
      ]
    },
    {
      "cell_type": "markdown",
      "metadata": {},
      "source": [
        "---\n",
        "## Integrate data with Azure Data Factory or Azure Synapse Pipeline\n",
        "### Understand Azure Data Factory"
      ]
    },
    {
      "cell_type": "markdown",
      "metadata": {},
      "source": [
        "❓ Which part of the symphony orchestra does Azure Data Factory play, according to the analogy?"
      ]
    },
    {
      "cell_type": "markdown",
      "metadata": {},
      "source": [
        "✔️ Answer:\n"
      ]
    },
    {
      "cell_type": "markdown",
      "metadata": {},
      "source": [
        "#### Describe data integration patterns"
      ]
    },
    {
      "cell_type": "markdown",
      "metadata": {},
      "source": [
        "❓ What does ETL stand for?"
      ]
    },
    {
      "cell_type": "markdown",
      "metadata": {},
      "source": [
        "✔️ Answer:\n"
      ]
    },
    {
      "cell_type": "markdown",
      "metadata": {},
      "source": [
        "❓ What does ELT stand for?"
      ]
    },
    {
      "cell_type": "markdown",
      "metadata": {},
      "source": [
        "✔️ Answer:\n"
      ]
    },
    {
      "cell_type": "markdown",
      "metadata": {},
      "source": [
        "❓ What is the difference between ETL and ELT?"
      ]
    },
    {
      "cell_type": "markdown",
      "metadata": {},
      "source": [
        "✔️ Answer:\n"
      ]
    },
    {
      "cell_type": "markdown",
      "metadata": {},
      "source": [
        "#### Create Data Factory activities and pipelines"
      ]
    },
    {
      "cell_type": "markdown",
      "metadata": {},
      "source": [
        "❓ Which are the three categories of Azure Data factory activities?"
      ]
    },
    {
      "cell_type": "markdown",
      "metadata": {},
      "source": [
        "✔️ Answer:\n"
      ]
    },
    {
      "cell_type": "markdown",
      "metadata": {},
      "source": [
        "---\n",
        "## Large-scale data processing with Azure Data Lake Storage Gen2\n",
        "### Introduction to Azure Data Lake Storage Gen2\n",
        "#### Understand Azure Data Lake Storage Gen2"
      ]
    },
    {
      "cell_type": "markdown",
      "metadata": {},
      "source": [
        "❓ Which format is data stored in in a data lake?"
      ]
    },
    {
      "cell_type": "markdown",
      "metadata": {},
      "source": [
        "✔️ Answer:\n"
      ]
    },
    {
      "cell_type": "markdown",
      "metadata": {},
      "source": [
        "❓ Which factors should influence the planning of a data lake?"
      ]
    },
    {
      "cell_type": "markdown",
      "metadata": {},
      "source": [
        "✔️ Answer:\n"
      ]
    },
    {
      "cell_type": "markdown",
      "metadata": {},
      "source": [
        "#### Enable Azure Data Lake storage Gen2 in Azure Storage"
      ]
    },
    {
      "cell_type": "markdown",
      "metadata": {},
      "source": [
        "❓ What is the name of the option that enables Azure Data Lake Storage Gen2?"
      ]
    },
    {
      "cell_type": "markdown",
      "metadata": {},
      "source": [
        "✔️ Answer:\n"
      ]
    },
    {
      "cell_type": "markdown",
      "metadata": {},
      "source": [
        "#### Compare Azure Data Lake Storage and Azure Blob storage"
      ]
    },
    {
      "cell_type": "markdown",
      "metadata": {},
      "source": [
        "❓ What is the main difference between Azure Data Lake Storage and Azure Blob storage?"
      ]
    },
    {
      "cell_type": "markdown",
      "metadata": {},
      "source": [
        "✔️ Answer:\n"
      ]
    },
    {
      "cell_type": "markdown",
      "metadata": {},
      "source": [
        "❓ What kind of storage account should you use to store website assets such as images and videos?"
      ]
    },
    {
      "cell_type": "markdown",
      "metadata": {},
      "source": [
        "✔️ Answer:\n"
      ]
    },
    {
      "cell_type": "markdown",
      "metadata": {},
      "source": [
        "❓ What kind of storage account should you use to store data that you wih to perform analytics on?"
      ]
    },
    {
      "cell_type": "markdown",
      "metadata": {},
      "source": [
        "✔️ Answer:\n"
      ]
    },
    {
      "cell_type": "markdown",
      "metadata": {},
      "source": [
        "#### Use Azure Data Lake Storage Gen2 in data analytics workloads"
      ]
    },
    {
      "cell_type": "markdown",
      "metadata": {},
      "source": [
        "❓ What are the three \"v's\" that are involved when processing big data?"
      ]
    },
    {
      "cell_type": "markdown",
      "metadata": {},
      "source": [
        "✔️ Answer:\n"
      ]
    }
  ],
  "metadata": {
    "kernelspec": {
      "display_name": "Python 3 (ipykernel)",
      "language": "python",
      "name": "python3",
      "path": "/home/linus/.local/share/jupyter/kernels/python3"
    }
  },
  "nbformat": 4,
  "nbformat_minor": 4
}
